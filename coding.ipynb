{
 "cells": [
  {
   "cell_type": "code",
   "execution_count": 1,
   "metadata": {},
   "outputs": [],
   "source": [
    "import math\n",
    "import collections"
   ]
  },
  {
   "cell_type": "markdown",
   "metadata": {},
   "source": [
    "## Part 1\n",
    "Assumptions - There's only single pair in the given data (list) that sums upto the target number (2020).\n",
    "\n",
    "**Approach 1**\n",
    "1. Nested loop over the lists to find the pair of numbers that sum upto 2020 with O(N^2) time complexity\n",
    "\n",
    "**Approach 2**\n",
    "1. Assuming there is only a single pair which sums upto the given target no. (2020). For a number x, there should exist a n-x in the rest of list to complete the sum.\n",
    "2. This solution leverages this logic, for every element checks for the remaining difference in the list whcih would make it equal to 2020\n",
    "3. Time complexity of solution - O(N)\n",
    " \n",
    "**Answer**: Product - 514579. In this case, the product seems to be the LCM of the two numbers which sum up to 2020 as both numbers are co-prime"
   ]
  },
  {
   "cell_type": "code",
   "execution_count": 2,
   "metadata": {},
   "outputs": [],
   "source": [
    "input, target = [1721, 979, 366, 299, 675, 1456], 2020"
   ]
  },
  {
   "cell_type": "code",
   "execution_count": 3,
   "metadata": {},
   "outputs": [],
   "source": [
    "def return_product_pair(_list, target):\n",
    "    '''\n",
    "        Function returns the product of the two numbers in the given list that sum upto the target number\n",
    "        \n",
    "        Parameters\n",
    "        ----------\n",
    "        _list: array\n",
    "            Input list of numbers which contains the pair\n",
    "        target: int\n",
    "            Target number to which sum of pair should be equal to\n",
    "\n",
    "        Returns\n",
    "        -------\n",
    "        int\n",
    "            Product of pair of numbers that sum upto target number\n",
    "    '''\n",
    "    for i in range(len(_list)-1):\n",
    "\n",
    "        diff = target - _list[i]\n",
    "        if diff in _list[i+1:]:\n",
    "            print(_list[i], diff)\n",
    "            return diff*_list[i] \n",
    "\n",
    "    return -1\n",
    "    "
   ]
  },
  {
   "cell_type": "code",
   "execution_count": 4,
   "metadata": {},
   "outputs": [
    {
     "name": "stdout",
     "output_type": "stream",
     "text": [
      "1721 299\n",
      "514579\n"
     ]
    }
   ],
   "source": [
    "print(return_product_pair(input, 2020))"
   ]
  },
  {
   "cell_type": "code",
   "execution_count": 5,
   "metadata": {},
   "outputs": [
    {
     "name": "stdout",
     "output_type": "stream",
     "text": [
      "10 8\n",
      "80\n"
     ]
    }
   ],
   "source": [
    "print(return_product_pair([1, 4, 45, 6, 10, 8], 18))"
   ]
  },
  {
   "cell_type": "markdown",
   "metadata": {},
   "source": [
    "## Part 2 \n",
    "\n",
    "Assumptions - There's only single triplet in the given data (list) that sums upto the target number (2020).\n",
    "\n",
    "**Approach 1**\n",
    "1. Three nested loop over the lists to find the triplet of numbers that sum upto 2020 with O(N^3) time complexity.\n",
    "\n",
    "**Final approach**\n",
    "1. Leveraging the approach from part 1, and utilising two pointer approach to track the sum n-x, where x is the first number which could possibly be one of the numbers that'll sum upto n (2020). For every element x, we try to find the sub pair whose sum is equal is n-x, in a sorted list to reducing search complexity where smaller number could be increased if sum is less than n-x or larger numbner decreased if n.\n",
    "2. Time complexity - O(nlogn)\n",
    "\n",
    "**Answer**: Product - 158661360 (201, 715, 1104)"
   ]
  },
  {
   "cell_type": "code",
   "execution_count": 6,
   "metadata": {},
   "outputs": [
    {
     "name": "stdout",
     "output_type": "stream",
     "text": [
      "200 [1822, 1917, 1642, 1617, 1941, 1740, 1529, 1896, 1880, 568, 1897, 1521, 1832, 1936, 611, 1475, 1950, 1895, 1532, 1721, 1498, 1905, 1770, 1845, 2003, 1854, 1705, 1916, 1913, 1956, 1798, 1823, 1955, 1713, 1942, 1710, 1696, 1590, 1966, 1476, 1800, 1672, 1533, 1524, 1957, 1923, 1545, 534, 1707, 1760, 1104, 1471, 1947, 1802, 1525, 1931, 1653, 1608, 1937, 1977, 1598, 1470, 1794, 1488, 1786, 1652, 1482, 1603, 1667, 1245, 1478, 667, 1948, 1885, 547, 1971, 1795, 1910, 1571, 1711, 1727, 1987, 1597, 1586, 1661, 1893, 1873, 1827, 1561, 2006, 1782, 1813, 2000, 1592, 1714, 1849, 1501, 1809, 1751, 1935, 1692, 1697, 1878, 1502, 1738, 1731, 1682, 1690, 1499, 1641, 1925, 1996, 1972, 1886, 1836, 1747, 1841, 1668, 715, 1698, 1859, 1637, 1477, 1785, 1695, 1702, 1944, 1631, 1771, 1623, 1892, 1466, 1834, 1899, 201, 1801, 1978, 1830, 1591, 1673, 1949, 1846, 1677, 1657, 1576, 1817, 1851, 1894, 1754, 1604, 1568, 1730, 1985, 1614, 1980, 1554, 1997, 1960, 1983, 1848, 1883, 1968, 1729, 1716, 628, 1472, 1676, 1943, 1821, 1681, 1619, 1644, 842, 1492, 1633, 1921, 775, 1861, 1584, 1974, 585, 1898, 1560, 1708, 1927, 1563, 1872, 1876, 1865, 1535, 1994, 1756, 1662, 1621, 1993, 1825, 1679, 1959, 1691, 1875]\n"
     ]
    }
   ],
   "source": [
    "f = open(\"dataset/dataset2.txt\", \"r\")\n",
    "input2 = [int(i) for i in f]\n",
    "print(len(input2), input2)"
   ]
  },
  {
   "cell_type": "code",
   "execution_count": 7,
   "metadata": {},
   "outputs": [],
   "source": [
    "def return_product_triplet(_list, target):\n",
    "    '''\n",
    "        Function returns the product of the three numbers in the given list that sum upto the target number\n",
    "\n",
    "        Parameters\n",
    "        ----------\n",
    "        _list: array\n",
    "            Input list of numbers which contains the pair\n",
    "        target: int\n",
    "            Target number to which sum of pair should be equal to\n",
    "\n",
    "        Returns\n",
    "        -------\n",
    "        int\n",
    "            Product of triplet of numbers that sum upto target number\n",
    "    '''\n",
    "\n",
    "    _list.sort()\n",
    "\n",
    "    for i in range(0, (len(_list)-2)):\n",
    "        start, end = i+1, len(_list)-1\n",
    "        \n",
    "        while(start < end):\n",
    "            if (_list[i] + _list[start] + _list[end]) == target:\n",
    "                print(_list[i], _list[start], _list[end])\n",
    "                return (_list[i]*_list[start]*_list[end])\n",
    "            elif (_list[i] + _list[start] + _list[end]) < target:\n",
    "                start += 1\n",
    "            elif (_list[i] + _list[start] + _list[end]) > target:\n",
    "                end -= 1\n",
    "            \n",
    "    return -1\n",
    "    "
   ]
  },
  {
   "cell_type": "code",
   "execution_count": 8,
   "metadata": {},
   "outputs": [
    {
     "name": "stdout",
     "output_type": "stream",
     "text": [
      "1245 775\n",
      "964875\n"
     ]
    }
   ],
   "source": [
    "print(return_product_pair(input2, 2020))"
   ]
  },
  {
   "cell_type": "code",
   "execution_count": 9,
   "metadata": {},
   "outputs": [
    {
     "name": "stdout",
     "output_type": "stream",
     "text": [
      "366 675 979\n",
      "241861950\n"
     ]
    }
   ],
   "source": [
    "print(return_product_triplet(input, 2020))"
   ]
  },
  {
   "cell_type": "code",
   "execution_count": 10,
   "metadata": {},
   "outputs": [
    {
     "name": "stdout",
     "output_type": "stream",
     "text": [
      "201 715 1104\n",
      "158661360\n"
     ]
    }
   ],
   "source": [
    "print(return_product_triplet(input2, 2020))"
   ]
  },
  {
   "cell_type": "code",
   "execution_count": null,
   "metadata": {},
   "outputs": [],
   "source": []
  }
 ],
 "metadata": {
  "kernelspec": {
   "display_name": "Python 3",
   "language": "python",
   "name": "python3"
  },
  "language_info": {
   "codemirror_mode": {
    "name": "ipython",
    "version": 3
   },
   "file_extension": ".py",
   "mimetype": "text/x-python",
   "name": "python",
   "nbconvert_exporter": "python",
   "pygments_lexer": "ipython3",
   "version": "3.8.0"
  }
 },
 "nbformat": 4,
 "nbformat_minor": 2
}
